{
 "cells": [
  {
   "cell_type": "code",
   "execution_count": 1,
   "metadata": {},
   "outputs": [
    {
     "name": "stdout",
     "output_type": "stream",
     "text": [
      "True\n"
     ]
    }
   ],
   "source": [
    "import torch\n",
    "import numpy as np\n",
    "print(torch.cuda.is_available())"
   ]
  },
  {
   "cell_type": "markdown",
   "metadata": {},
   "source": [
    "## Pytorch 基礎操作"
   ]
  },
  {
   "cell_type": "markdown",
   "metadata": {},
   "source": [
    "#### pytorch 基本資料型態"
   ]
  },
  {
   "cell_type": "code",
   "execution_count": 11,
   "metadata": {},
   "outputs": [
    {
     "name": "stdout",
     "output_type": "stream",
     "text": [
      "0 維張量: \n",
      "1\n",
      "size: torch.Size([])\n",
      "dim: 0\n",
      "---------------------------\n",
      "1 維張量: \n",
      "tensor([1, 2])\n",
      "size: torch.Size([2])\n",
      "dim: 1\n",
      "---------------------------\n",
      "2 維張量: \n",
      "tensor([[1, 2],\n",
      "        [3, 4]])\n",
      "size: torch.Size([2, 2])\n",
      "dim: 2\n",
      "---------------------------\n",
      "3 維張量: \n",
      "tensor([[[1, 2],\n",
      "         [3, 2]],\n",
      "\n",
      "        [[1, 7],\n",
      "         [5, 4]]])\n",
      "size: torch.Size([2, 2, 2])\n",
      "dim: 3\n",
      "---------------------------\n"
     ]
    }
   ],
   "source": [
    "tensor_0d = torch.tensor(1)\n",
    "print(\"0 維張量: \")\n",
    "print(f\"{tensor_0d}\\nsize: {tensor_0d.size()}\\ndim: {tensor_0d.ndim}\\n---------------------------\")\n",
    "tensor_1d = torch.tensor([1,2])\n",
    "print(\"1 維張量: \")\n",
    "print(f\"{tensor_1d}\\nsize: {tensor_1d.size()}\\ndim: {tensor_1d.ndim}\\n---------------------------\")\n",
    "tensor_2d = torch.tensor([[1,2],[3,4]])\n",
    "print(\"2 維張量: \")\n",
    "print(f\"{tensor_2d}\\nsize: {tensor_2d.size()}\\ndim: {tensor_2d.ndim}\\n---------------------------\")\n",
    "tensor_3d = torch.tensor([[[1, 2], [3, 2]], [[1, 7], [5, 4]]])\n",
    "print(\"3 維張量: \")\n",
    "print(f\"{tensor_3d}\\nsize: {tensor_3d.size()}\\ndim: {tensor_3d.ndim}\\n---------------------------\")"
   ]
  },
  {
   "cell_type": "code",
   "execution_count": 5,
   "metadata": {},
   "outputs": [
    {
     "name": "stdout",
     "output_type": "stream",
     "text": [
      "tensor([1, 2])\n"
     ]
    }
   ],
   "source": [
    "# tensor 也可由 numpy 產生\n",
    "vector = [1,2]\n",
    "np_array = np.array(vector)\n",
    "x_np = torch.from_numpy(np_array)\n",
    "print(x_np)"
   ]
  },
  {
   "cell_type": "code",
   "execution_count": 12,
   "metadata": {},
   "outputs": [
    {
     "name": "stdout",
     "output_type": "stream",
     "text": [
      "Shape of tensor: torch.Size([2, 2])\n",
      "Datatype of tensor: torch.int64\n",
      "Device tensor is sotered on: cpu\n"
     ]
    }
   ],
   "source": [
    "# tensor 的基本屬性\n",
    "tensor = torch.tensor([[1,2],[3,4]])\n",
    "print(f'Shape of tensor: {tensor.shape}')\n",
    "print(f'Datatype of tensor: {tensor.dtype}')\n",
    "print(f'Device tensor is sotered on: {tensor.device}')"
   ]
  },
  {
   "cell_type": "markdown",
   "metadata": {},
   "source": [
    "#### tensor.torch()"
   ]
  },
  {
   "cell_type": "code",
   "execution_count": 15,
   "metadata": {},
   "outputs": [
    {
     "name": "stdout",
     "output_type": "stream",
     "text": [
      "tensor(5)\n",
      "tensor([4])\n"
     ]
    }
   ],
   "source": [
    "a = torch.tensor(5)\n",
    "print(a)\n",
    "anp = np.asarray([4])  # 定義一個 Numpy 陣列\n",
    "a = torch.tensor(anp)  # 將 Numpy 陣列轉為張量\n",
    "print(a)"
   ]
  },
  {
   "cell_type": "markdown",
   "metadata": {},
   "source": [
    "#### torch.Tensor()"
   ]
  },
  {
   "cell_type": "code",
   "execution_count": 20,
   "metadata": {},
   "outputs": [
    {
     "name": "stdout",
     "output_type": "stream",
     "text": [
      "tensor([4.4449e-16, 1.1477e-42])\n",
      "tensor([[0.0000e+00, 2.3453e-02],\n",
      "        [0.0000e+00, 1.1062e-05]])\n",
      "tensor([2.])\n",
      "tensor([1., 2.])\n"
     ]
    }
   ],
   "source": [
    "a = torch.Tensor(2)\n",
    "print(a)\n",
    "b = torch.Tensor(2,2)\n",
    "print(b)\n",
    "c = torch.Tensor([2])\n",
    "print(c)\n",
    "d = torch.Tensor([1,2])\n",
    "print(d)"
   ]
  },
  {
   "cell_type": "code",
   "execution_count": 22,
   "metadata": {},
   "outputs": [
    {
     "data": {
      "text/plain": [
       "4"
      ]
     },
     "execution_count": 22,
     "metadata": {},
     "output_type": "execute_result"
    }
   ],
   "source": [
    "# 判斷一個物件是否為張量\n",
    "torch.is_tensor(d)\n",
    "# 獲取張量中元素個數\n",
    "torch.numel(b)"
   ]
  },
  {
   "cell_type": "markdown",
   "metadata": {},
   "source": [
    "#### 如何修改張量函數的預設類型"
   ]
  },
  {
   "cell_type": "code",
   "execution_count": 27,
   "metadata": {},
   "outputs": [
    {
     "name": "stdout",
     "output_type": "stream",
     "text": [
      "torch.float32\n",
      "torch.float32\n",
      "torch.float64\n",
      "torch.float64\n"
     ]
    }
   ],
   "source": [
    "print(torch.get_default_dtype())   # 輸出預設類型\n",
    "print(torch.Tensor([[1,3]]).dtype) # 輸出使用張量函數定義的張量類型\n",
    "\n",
    "torch.set_default_dtype(torch.float64)  # 修改預設張量類型\n",
    "print(torch.get_default_dtype())   \n",
    "print(torch.Tensor([[1,3]]).dtype) "
   ]
  },
  {
   "cell_type": "markdown",
   "metadata": {},
   "source": [
    "#### type()"
   ]
  },
  {
   "cell_type": "code",
   "execution_count": 34,
   "metadata": {},
   "outputs": [
    {
     "name": "stdout",
     "output_type": "stream",
     "text": [
      "tensor([4, 2], dtype=torch.int32)\n",
      "tensor([4., 2.], dtype=torch.float64)\n",
      "tensor([4, 2], dtype=torch.int32)\n",
      "tensor(3.)\n",
      "tensor([2.0000, 1.4142])\n"
     ]
    }
   ],
   "source": [
    "a = torch.FloatTensor([4,2])\n",
    "print(a.type(torch.IntTensor))\n",
    "print(a.double())\n",
    "print(a.int())\n",
    "\n",
    "print(a.mean())\n",
    "print(a.sqrt())"
   ]
  },
  {
   "cell_type": "markdown",
   "metadata": {},
   "source": [
    "## Pytorch 與 Numpy"
   ]
  },
  {
   "cell_type": "markdown",
   "metadata": {},
   "source": [
    "#### 張量與 Numpy 資料的互相轉換"
   ]
  },
  {
   "cell_type": "code",
   "execution_count": 3,
   "metadata": {},
   "outputs": [
    {
     "name": "stdout",
     "output_type": "stream",
     "text": [
      "[1. 2.]\n",
      "tensor([1, 2])\n",
      "tensor([1, 2])\n"
     ]
    }
   ],
   "source": [
    "a = torch.FloatTensor([1,2])\n",
    "# 將張量轉成 Numpy 的物件\n",
    "print(a.numpy())\n",
    "\n",
    "anp = np.array([1,2])\n",
    "# 將 numpy array 轉換為 tensor\n",
    "print(torch.from_numpy(anp))\n",
    "print(torch.tensor(anp))"
   ]
  },
  {
   "cell_type": "markdown",
   "metadata": {},
   "source": [
    "#### 張量與 Numpy 的各自形狀獲取"
   ]
  },
  {
   "cell_type": "code",
   "execution_count": 20,
   "metadata": {},
   "outputs": [
    {
     "name": "stdout",
     "output_type": "stream",
     "text": [
      "torch.Size([2, 1])\n",
      "torch.Size([2, 1])\n",
      "2 (2, 1)\n",
      "torch.Size([1, 2])\n",
      "(1, 2)\n"
     ]
    }
   ],
   "source": [
    "x = torch.randn(2,1)\n",
    "print(x.shape)    # 列印張量形狀，輸出 torch.Size([2, 1])\n",
    "print(x.size())   # 列印張量大小，輸出 torch.Size([2, 1])\n",
    "\n",
    "anp = np.array([[1],[3]])\n",
    "print(anp.size,anp.shape)  # 2 (2, 1)\n",
    "\n",
    "# 張量與 numpy 都可以使$ reshape 對陣列進行形狀改變\n",
    "print(x.reshape(1,2).shape)    # torch.Size([1, 2])\n",
    "print(anp.reshape(1,2).shape)  # (1, 2)"
   ]
  },
  {
   "cell_type": "markdown",
   "metadata": {},
   "source": [
    "#### 張量與 Numpy 的切片"
   ]
  },
  {
   "cell_type": "code",
   "execution_count": 33,
   "metadata": {},
   "outputs": [
    {
     "name": "stdout",
     "output_type": "stream",
     "text": [
      "tensor([0.7733, 0.1023])\n",
      "[0.68533986 0.83971181]\n"
     ]
    }
   ],
   "source": [
    "x = torch.randn(2,4)\n",
    "print(x[0,2:4])   # 取第一列，第 2、3 個元素\n",
    "anp = np.random.rand(2,4)  # 產生 2 x 4 的隨機 numpy array\n",
    "print(anp[0,2:4])"
   ]
  },
  {
   "cell_type": "markdown",
   "metadata": {},
   "source": [
    "#### 張量與 Numpy 轉換的陷阱 "
   ]
  },
  {
   "cell_type": "code",
   "execution_count": 35,
   "metadata": {},
   "outputs": [
    {
     "name": "stdout",
     "output_type": "stream",
     "text": [
      "tensor([1, 1])\n",
      "tensor([2, 2])\n",
      "tensor([2, 2])\n",
      "tensor([2, 2])\n"
     ]
    }
   ],
   "source": [
    "nparray = np.array([1,1])\n",
    "x = torch.from_numpy(nparray)\n",
    "print(x)      # tensor([1, 1])\n",
    "nparray += 1  # 直接更對 nparray 變數，造成參考此陣列的張量也受影響\n",
    "print(x)      # tensor([2, 2])\n",
    "y = torch.from_numpy(nparray)\n",
    "print(y)      # tensor([2, 2])\n",
    "nparray = nparray + 1  # 新建一個變數儲存更動後的 nparray，張量不會受影響\n",
    "print(y)      # tensor([2, 2])"
   ]
  },
  {
   "cell_type": "markdown",
   "metadata": {},
   "source": [
    "## 張量在 CPU 與 GPU 的操作"
   ]
  },
  {
   "cell_type": "code",
   "execution_count": 42,
   "metadata": {},
   "outputs": [
    {
     "name": "stdout",
     "output_type": "stream",
     "text": [
      "tensor([2., 2.], device='cuda:0')\n",
      "tensor([4], device='cuda:0')\n",
      "tensor([4.])\n",
      "tensor([4.], device='cuda:0')\n"
     ]
    }
   ],
   "source": [
    "# 將 CPU 記憶體的張量轉化到 GPU\n",
    "a = torch.FloatTensor([2,2])\n",
    "b = a.cuda()  # 將張量重新在 GPU 所管理的記憶體中建立\n",
    "print(b)\n",
    "# a + b  ❌ 錯誤！不能跨裝置直接運算\n",
    "\n",
    "# 直接在 GPU 上定義\n",
    "a = torch.tensor([4], device=\"cuda\")\n",
    "print(a)\n",
    "\n",
    "# 使用 to() 方法\n",
    "a = torch.FloatTensor([4])\n",
    "print(a)\n",
    "print(a.to(\"cuda:0\"))"
   ]
  },
  {
   "cell_type": "markdown",
   "metadata": {},
   "source": [
    "## 生成隨機值張量"
   ]
  },
  {
   "cell_type": "markdown",
   "metadata": {},
   "source": [
    "#### 設定隨機值種子"
   ]
  },
  {
   "cell_type": "code",
   "execution_count": 45,
   "metadata": {},
   "outputs": [
    {
     "data": {
      "text/plain": [
       "2"
      ]
     },
     "execution_count": 45,
     "metadata": {},
     "output_type": "execute_result"
    }
   ],
   "source": [
    "torch.initial_seed()\n",
    "torch.manual_seed(2)\n",
    "torch.initial_seed()"
   ]
  },
  {
   "cell_type": "markdown",
   "metadata": {},
   "source": [
    "#### 按照指定形狀生成"
   ]
  },
  {
   "cell_type": "code",
   "execution_count": 46,
   "metadata": {},
   "outputs": [
    {
     "data": {
      "text/plain": [
       "tensor([[ 0.3923, -0.2236, -0.3195],\n",
       "        [-1.2050,  1.0445, -0.6332]])"
      ]
     },
     "execution_count": 46,
     "metadata": {},
     "output_type": "execute_result"
    }
   ],
   "source": [
    "torch.randn(2,3)"
   ]
  },
  {
   "cell_type": "markdown",
   "metadata": {},
   "source": [
    "#### 生成線性空間的隨機值"
   ]
  },
  {
   "cell_type": "code",
   "execution_count": 50,
   "metadata": {},
   "outputs": [
    {
     "name": "stdout",
     "output_type": "stream",
     "text": [
      "tensor([1, 3, 5, 7, 9])\n",
      "tensor([1., 3., 5., 7., 9.])\n"
     ]
    }
   ],
   "source": [
    "print(torch.arange(1, 10, step=2))  # 在 1 到 10 間，每 2 步進行取值，arange() 包含起始點但不包含終點 \n",
    "print(torch.linspace(1, 9, steps=5))  # 在 1 到 9 間，均勻取出 5 個數，linspace() 包含起點與終點"
   ]
  },
  {
   "cell_type": "markdown",
   "metadata": {},
   "source": [
    "#### 生成為初始化的隨機矩陣"
   ]
  },
  {
   "cell_type": "code",
   "execution_count": 56,
   "metadata": {},
   "outputs": [
    {
     "name": "stdout",
     "output_type": "stream",
     "text": [
      "tensor([[-1.8891e+26,  6.0240e-01]])\n"
     ]
    }
   ],
   "source": [
    "print(torch.empty(1,2))"
   ]
  },
  {
   "cell_type": "markdown",
   "metadata": {},
   "source": [
    "## 張量的數學運算"
   ]
  },
  {
   "cell_type": "code",
   "execution_count": 68,
   "metadata": {},
   "outputs": [
    {
     "name": "stdout",
     "output_type": "stream",
     "text": [
      "tensor([2., 2.]) tensor([4., 4.])\n",
      "tensor([4., 4.])\n",
      "tensor([4., 4.])\n",
      "tensor([6., 6.])\n"
     ]
    }
   ],
   "source": [
    "d = torch.FloatTensor([2,2])\n",
    "print(d,d + d)\n",
    "b = torch.add(a,a)\n",
    "print(b)\n",
    "c = torch.Tensor([0,0])\n",
    "print(torch.add(a,a,out = c))\n",
    "\n",
    "d.add_(b)\n",
    "print(d)"
   ]
  },
  {
   "cell_type": "markdown",
   "metadata": {},
   "source": [
    "## 張量的資料操作"
   ]
  },
  {
   "cell_type": "markdown",
   "metadata": {},
   "source": [
    "#### torch.reshape()"
   ]
  },
  {
   "cell_type": "code",
   "execution_count": 78,
   "metadata": {},
   "outputs": [
    {
     "name": "stdout",
     "output_type": "stream",
     "text": [
      "tensor([[1],\n",
      "        [2],\n",
      "        [3],\n",
      "        [4]])\n",
      "tensor([[1, 2, 3, 4]])\n",
      "tensor([[1, 2],\n",
      "        [3, 4]])\n"
     ]
    }
   ],
   "source": [
    "a = torch.tensor([[1,2],[3,4]])   # 定義一個二維張量\n",
    "print(torch.reshape(a,(-1,1)))    \n",
    "print(torch.reshape(a,(1,-1)))\n",
    "print(torch.reshape(a,(2,2)))"
   ]
  },
  {
   "cell_type": "markdown",
   "metadata": {},
   "source": [
    "#### torch.t()、torch.transpose()"
   ]
  },
  {
   "cell_type": "code",
   "execution_count": 81,
   "metadata": {},
   "outputs": [
    {
     "name": "stdout",
     "output_type": "stream",
     "text": [
      "tensor([[5, 6, 7],\n",
      "        [2, 8, 0]])\n",
      "tensor([[5, 2],\n",
      "        [6, 8],\n",
      "        [7, 0]])\n",
      "tensor([[5, 2],\n",
      "        [6, 8],\n",
      "        [7, 0]])\n"
     ]
    }
   ],
   "source": [
    "b = torch.tensor([[5,6,7],[2,8,0]])\n",
    "print(b)\n",
    "print(torch.t(b))\n",
    "print(torch.transpose(b, dim0 = 1,dim1 = 0))"
   ]
  },
  {
   "cell_type": "markdown",
   "metadata": {},
   "source": [
    "#### torch.cat()"
   ]
  },
  {
   "cell_type": "code",
   "execution_count": 109,
   "metadata": {},
   "outputs": [
    {
     "name": "stdout",
     "output_type": "stream",
     "text": [
      "tensor([[1, 2],\n",
      "        [3, 4]])\n",
      "tensor([[5, 6],\n",
      "        [7, 8]])\n",
      "tensor([[1, 2],\n",
      "        [3, 4],\n",
      "        [5, 6],\n",
      "        [7, 8]])\n",
      "tensor([[1, 2, 5, 6],\n",
      "        [3, 4, 7, 8]])\n"
     ]
    }
   ],
   "source": [
    "a = torch.tensor([[1,2],[3,4]])\n",
    "b = torch.tensor([[5,6],[7,8]])\n",
    "print(a)\n",
    "print(b)\n",
    "print(torch.cat([a,b],dim = 0))\n",
    "print(torch.cat([a,b],dim = 1))\n"
   ]
  },
  {
   "cell_type": "code",
   "execution_count": 107,
   "metadata": {},
   "outputs": [
    {
     "name": "stdout",
     "output_type": "stream",
     "text": [
      "tensor([1, 2, 5, 6]) torch.Size([4])\n",
      "tensor([[1, 2],\n",
      "        [5, 6]]) torch.Size([2, 2])\n"
     ]
    }
   ],
   "source": [
    "a = torch.tensor([1,2])    # shape: (1,2)\n",
    "b = torch.tensor([5,6])    # shape: (1,2)\n",
    "print(torch.cat([a,b], dim = 0), torch.cat([a,b], dim = 0).shape)  # shape: (4,)\n",
    "print(torch.stack([a,b], dim = 0), torch.stack([a,b], dim = 0).shape)   # shape: (2,2)"
   ]
  },
  {
   "cell_type": "markdown",
   "metadata": {},
   "source": [
    "#### torch.chunk()"
   ]
  },
  {
   "cell_type": "code",
   "execution_count": 111,
   "metadata": {},
   "outputs": [
    {
     "name": "stdout",
     "output_type": "stream",
     "text": [
      "(tensor([[1, 2]]), tensor([[3, 4]]))\n",
      "(tensor([[1],\n",
      "        [3]]), tensor([[2],\n",
      "        [4]]))\n"
     ]
    }
   ],
   "source": [
    "a = torch.tensor([[1,2],[3,4]])\n",
    "# 將張量 a 沿著第 0 維度分割成 2 等份\n",
    "print(torch.chunk(a, chunks = 2,dim = 0))\n",
    "print(torch.chunk(a, chunks = 2,dim = 1))"
   ]
  },
  {
   "cell_type": "markdown",
   "metadata": {},
   "source": [
    "#### pytorch.split()"
   ]
  },
  {
   "cell_type": "code",
   "execution_count": 112,
   "metadata": {},
   "outputs": [
    {
     "data": {
      "text/plain": [
       "(tensor([[5],\n",
       "         [2]]),\n",
       " tensor([[6, 7],\n",
       "         [8, 0]]))"
      ]
     },
     "execution_count": 112,
     "metadata": {},
     "output_type": "execute_result"
    }
   ],
   "source": [
    "a = torch.tensor([[5,6,7],[2,8,0]])\n",
    "# 將張量依照第 1 維度分割成 (1,2) 等分的子張量\n",
    "torch.split(a, split_size_or_sections = (1,2),dim = 1)"
   ]
  },
  {
   "cell_type": "markdown",
   "metadata": {},
   "source": [
    "#### 按照設定值對張量過濾"
   ]
  },
  {
   "cell_type": "code",
   "execution_count": 114,
   "metadata": {},
   "outputs": [
    {
     "name": "stdout",
     "output_type": "stream",
     "text": [
      "tensor([[False,  True],\n",
      "        [ True,  True]])\n"
     ]
    },
    {
     "data": {
      "text/plain": [
       "tensor([2, 3, 4])"
      ]
     },
     "execution_count": 114,
     "metadata": {},
     "output_type": "execute_result"
    }
   ],
   "source": [
    "a = torch.tensor([[1,2],[3,4]])\n",
    "mask = a.ge(2)   # 找出大於或等於 2 的數\n",
    "print(mask)      # mask 呈現的是每個元素經過比較後的結果，以 0/1 表示\n",
    "torch.masked_select(a, mask)  # 將 a 張量依照 mask 遮罩結果進行過濾"
   ]
  },
  {
   "cell_type": "markdown",
   "metadata": {},
   "source": [
    "#### 獲取資料的最大值、最小值"
   ]
  },
  {
   "cell_type": "code",
   "execution_count": null,
   "metadata": {},
   "outputs": [
    {
     "data": {
      "text/plain": [
       "tensor([0, 0])"
      ]
     },
     "execution_count": 4,
     "metadata": {},
     "output_type": "execute_result"
    }
   ],
   "source": [
    "# 使用 argmax()、argmin()\n",
    "a = torch.tensor([[1,2],[3,4]])\n",
    "torch.argmax(a,dim = 0)\n",
    "torch.argmin(a,dim = 0)"
   ]
  },
  {
   "cell_type": "markdown",
   "metadata": {},
   "source": [
    "#### 根據設定值進行資料截斷"
   ]
  },
  {
   "cell_type": "code",
   "execution_count": 115,
   "metadata": {},
   "outputs": [
    {
     "data": {
      "text/plain": [
       "tensor([[2, 2],\n",
       "        [3, 3]])"
      ]
     },
     "execution_count": 115,
     "metadata": {},
     "output_type": "execute_result"
    }
   ],
   "source": [
    "a = torch.tensor([[1,2],[3,4]])\n",
    "torch.clamp(a, min = 2, max = 3)  # 定義最小值 2，最大值 3 進行截斷"
   ]
  },
  {
   "cell_type": "markdown",
   "metadata": {},
   "source": [
    "## Variable 類型與自動微分模組"
   ]
  },
  {
   "cell_type": "code",
   "execution_count": 118,
   "metadata": {},
   "outputs": [
    {
     "name": "stdout",
     "output_type": "stream",
     "text": [
      "tensor([4.])\n",
      "tensor([4.], requires_grad=True)\n",
      "tensor([4.])\n"
     ]
    }
   ],
   "source": [
    "import torch\n",
    "from torch.autograd import Variable\n",
    "a = torch.FloatTensor([4])\n",
    "print(Variable(a))  # 張量轉成支援計算梯度的 Variable 物件\n",
    "print(Variable(a, requires_grad = True))  # 使用 requires_grad 指定該張量是否需要梯度計算\n",
    "print(a.data)       # Variable 轉為張量物件"
   ]
  },
  {
   "cell_type": "markdown",
   "metadata": {},
   "source": [
    "#### torch.no_grad()"
   ]
  },
  {
   "cell_type": "code",
   "execution_count": 123,
   "metadata": {},
   "outputs": [
    {
     "name": "stdout",
     "output_type": "stream",
     "text": [
      "False\n"
     ]
    }
   ],
   "source": [
    "x = torch.ones(2,2, requires_grad = True)\n",
    "# 暫時關閉 Autograd 的追蹤功能，因此 y 不會被標記需要梯度計算\n",
    "with torch.no_grad():\n",
    "    y = x * 2\n",
    "print(y.requires_grad)"
   ]
  },
  {
   "cell_type": "code",
   "execution_count": 124,
   "metadata": {},
   "outputs": [
    {
     "name": "stdout",
     "output_type": "stream",
     "text": [
      "False\n"
     ]
    }
   ],
   "source": [
    "@torch.no_grad()   # 用裝飾器的方式修飾函數\n",
    "def double(x):     # 將張量的計算封裝到函數中\n",
    "    return x * 2\n",
    "z = double(x)\n",
    "print(z.requires_grad)"
   ]
  },
  {
   "cell_type": "markdown",
   "metadata": {},
   "source": [
    "#### torch.enable_grad()"
   ]
  },
  {
   "cell_type": "code",
   "execution_count": 125,
   "metadata": {},
   "outputs": [
    {
     "name": "stdout",
     "output_type": "stream",
     "text": [
      "True\n"
     ]
    }
   ],
   "source": [
    "x = torch.ones(2,2, requires_grad = True)\n",
    "with torch.no_grad():\n",
    "    with torch.enable_grad():\n",
    "        y = x * 2\n",
    "print(x.requires_grad)"
   ]
  },
  {
   "cell_type": "code",
   "execution_count": 128,
   "metadata": {},
   "outputs": [
    {
     "name": "stdout",
     "output_type": "stream",
     "text": [
      "True\n"
     ]
    }
   ],
   "source": [
    "@torch.enable_grad()\n",
    "def double(x):\n",
    "    return x * 2\n",
    "with torch.no_grad():\n",
    "    z = double(x)\n",
    "print(z.requires_grad)"
   ]
  },
  {
   "cell_type": "markdown",
   "metadata": {},
   "source": [
    "#### torch.set_grad_enabled()  對梯度計算進行統一管理"
   ]
  },
  {
   "cell_type": "code",
   "execution_count": 131,
   "metadata": {},
   "outputs": [
    {
     "name": "stdout",
     "output_type": "stream",
     "text": [
      "False\n",
      "True\n"
     ]
    }
   ],
   "source": [
    "x = torch.ones(2,2, requires_grad = True)\n",
    "torch.set_grad_enabled(False)   # 統一關閉梯度計算功能\n",
    "y = x * 2\n",
    "print(y.requires_grad)          # False\n",
    "torch.set_grad_enabled(True)    # 統一開啟梯度計算功能\n",
    "y = x * 2\n",
    "print(y.requires_grad)          # True"
   ]
  },
  {
   "cell_type": "markdown",
   "metadata": {},
   "source": [
    "#### grad_fn 與 is_leaf 屬性"
   ]
  },
  {
   "cell_type": "code",
   "execution_count": 138,
   "metadata": {},
   "outputs": [
    {
     "name": "stdout",
     "output_type": "stream",
     "text": [
      "<AddBackward0 object at 0x00000200F710E740>\n",
      "(tensor([[1., 1.],\n",
      "        [1., 1.]], requires_grad=True), None)\n"
     ]
    }
   ],
   "source": [
    "x = torch.ones(2,2,requires_grad = True)\n",
    "m = x + 2  # 經過計算得到的 Variable 物件\n",
    "print(m.grad_fn)\n",
    "# 對 x 變數求關於 m 的梯度\n",
    "print(m.grad_fn(x))"
   ]
  },
  {
   "cell_type": "code",
   "execution_count": 139,
   "metadata": {},
   "outputs": [
    {
     "name": "stdout",
     "output_type": "stream",
     "text": [
      "True\n",
      "False\n"
     ]
    }
   ],
   "source": [
    "x = torch.ones(2,2,requires_grad = True)\n",
    "print(x.is_leaf)\n",
    "m = x + 2\n",
    "print(m.is_leaf)"
   ]
  },
  {
   "cell_type": "markdown",
   "metadata": {},
   "source": [
    "#### backward() 方法自動求導"
   ]
  },
  {
   "cell_type": "code",
   "execution_count": 148,
   "metadata": {},
   "outputs": [
    {
     "name": "stdout",
     "output_type": "stream",
     "text": [
      "tensor([-20.0948, -40.1896, -60.2843])\n"
     ]
    }
   ],
   "source": [
    "w = torch.randn(3, requires_grad=True)\n",
    "b = torch.randn(1, requires_grad=True)\n",
    "x = torch.tensor([1.0,2.0,3.0])\n",
    "y_pred = w @ x + b  # 內積 + 偏差，預測值\n",
    "y_true = torch.tensor(10.0)  # 實際值\n",
    "loss = (y_pred - y_true) ** 2  # 損失函數，為一個純量\n",
    "loss.backward()  # 反向自動求導\n",
    "# 注意一定要先用 backward() 求導，grad 屬性才有意義\n",
    "print(w.grad)"
   ]
  },
  {
   "cell_type": "markdown",
   "metadata": {},
   "source": [
    "## 鉤子函數"
   ]
  },
  {
   "cell_type": "markdown",
   "metadata": {},
   "source": [
    "#### Forward"
   ]
  },
  {
   "cell_type": "code",
   "execution_count": 18,
   "metadata": {},
   "outputs": [
    {
     "name": "stdout",
     "output_type": "stream",
     "text": [
      "模型 :  Linear(in_features=4, out_features=3, bias=True)\n",
      "輸入 :  tensor([[-1.8132, -1.7156,  1.2718,  0.0168]])\n",
      "輸出 :  tensor([-0.5636, -1.0509,  0.5583], grad_fn=<UnbindBackward0>)\n"
     ]
    }
   ],
   "source": [
    "import torch\n",
    "import torch.nn as nn\n",
    "\n",
    "model = nn.Sequential(\n",
    "    nn.Linear(4, 3),\n",
    "    nn.ReLU(),\n",
    "    nn.Linear(3, 2)\n",
    ")\n",
    "\n",
    "# 定義 hook_function\n",
    "def hook_fn(module, input, output):\n",
    "    print(\"模型 : \",module)\n",
    "    for val in input:\n",
    "        print(\"輸入 : \",val)\n",
    "    for out_val in output:\n",
    "        print(\"輸出 : \",out_val)\n",
    "\n",
    "# 掛在第 1 層（Linear(4, 3)）\n",
    "handle = model[0].register_forward_hook(hook_fn)\n",
    "x = torch.randn(1, 4)\n",
    "y = model(x)  # 執行時 hook 會印出中間輸出"
   ]
  },
  {
   "cell_type": "markdown",
   "metadata": {},
   "source": [
    "#### Backward"
   ]
  },
  {
   "cell_type": "code",
   "execution_count": 21,
   "metadata": {},
   "outputs": [
    {
     "name": "stdout",
     "output_type": "stream",
     "text": [
      "模型層： Linear(in_features=4, out_features=3, bias=True)\n",
      "傳入該層的梯度（grad_input）： (None,)\n",
      "傳出該層的梯度（grad_output）： (tensor([[0.0296, 0.0000, 0.1728]]),)\n"
     ]
    }
   ],
   "source": [
    "import torch\n",
    "import torch.nn as nn\n",
    "\n",
    "model = nn.Sequential(\n",
    "    nn.Linear(4, 3),\n",
    "    nn.ReLU(),\n",
    "    nn.Linear(3, 2)\n",
    ")\n",
    "\n",
    "# 定義反向鉤子函數\n",
    "def backward_hook(module, grad_input, grad_output):\n",
    "    print(\"模型層：\", module)\n",
    "    print(\"傳入該層的梯度（grad_input）：\", grad_input)\n",
    "    print(\"傳出該層的梯度（grad_output）：\", grad_output)\n",
    "\n",
    "# 掛在第 0 層（Linear(4, 3)）\n",
    "handle = model[0].register_full_backward_hook(backward_hook)\n",
    "\n",
    "# 輸入與目標張量（注意：模型第一層輸入是 4 維）\n",
    "x = torch.randn(1, 4)\n",
    "target = torch.randn(1, 2)\n",
    "\n",
    "criterion = nn.MSELoss()\n",
    "# 前向傳播\n",
    "output = model(x)\n",
    "loss = criterion(output, target)\n",
    "# backward() 計算梯度，此時 hook 被觸發\n",
    "loss.backward()"
   ]
  },
  {
   "cell_type": "markdown",
   "metadata": {},
   "source": [
    "## 神經網路"
   ]
  },
  {
   "cell_type": "markdown",
   "metadata": {},
   "source": [
    "### Activation Function"
   ]
  },
  {
   "cell_type": "code",
   "execution_count": 10,
   "metadata": {},
   "outputs": [
    {
     "name": "stdout",
     "output_type": "stream",
     "text": [
      "tensor([ 1.9245, -0.6642])\n",
      "tensor([0.8726, 0.3398])\n",
      "tensor([-0.1362, -1.0794])\n",
      "tensor([ 0.9583, -0.5811])\n"
     ]
    }
   ],
   "source": [
    "import torch.nn as nn\n",
    "# 創建一個包含 2 個隨機數的張量，並將其包裝成 Variable\n",
    "input = torch.autograd.Variable(torch.randn(2))\n",
    "print(input)\n",
    "print(nn.Sigmoid()(input))\n",
    "print(nn.LogSigmoid()(input))\n",
    "print(nn.Tanh()(input))"
   ]
  },
  {
   "cell_type": "markdown",
   "metadata": {},
   "source": [
    "#### Swish & Mish"
   ]
  },
  {
   "cell_type": "code",
   "execution_count": 12,
   "metadata": {},
   "outputs": [
    {
     "name": "stdout",
     "output_type": "stream",
     "text": [
      "tensor([ 1.6794, -0.2257])\n",
      "tensor([ 1.8631, -0.2609])\n"
     ]
    }
   ],
   "source": [
    "swish_activation = nn.SiLU()\n",
    "print(swish_activation(input))\n",
    "print(nn.Mish()(input))"
   ]
  },
  {
   "cell_type": "code",
   "execution_count": 13,
   "metadata": {},
   "outputs": [
    {
     "name": "stdout",
     "output_type": "stream",
     "text": [
      "tensor([ 1.8723, -0.1682])\n"
     ]
    }
   ],
   "source": [
    "print(nn.GELU()(input))"
   ]
  },
  {
   "cell_type": "markdown",
   "metadata": {},
   "source": [
    "#### Softmax"
   ]
  },
  {
   "cell_type": "code",
   "execution_count": null,
   "metadata": {},
   "outputs": [
    {
     "name": "stdout",
     "output_type": "stream",
     "text": [
      "tensor([[2.0000, 0.5000, 6.0000],\n",
      "        [0.1000, 0.0000, 3.0000]], requires_grad=True)\n",
      "tensor([2, 1])\n",
      "Softmax : tensor([[0.0179, 0.0040, 0.9781],\n",
      "        [0.0498, 0.0451, 0.9051]], grad_fn=<SoftmaxBackward0>)\n",
      "Cross Entropy loss: tensor(1.5609, grad_fn=<NllLossBackward0>)\n"
     ]
    }
   ],
   "source": [
    "# 分別是兩筆樣本各自對三個類別的輸出值\n",
    "logits = x = torch.tensor([[2,0.5,6],[0.1,0,3]], requires_grad=True)\n",
    "labels = torch.LongTensor([2,1])\n",
    "print(logits)\n",
    "print(labels)\n",
    "# 計算 Softmax 輸出機率與 CE loss\n",
    "print('Softmax :',torch.nn.Softmax(dim = 1)(logits))\n",
    "print('Cross Entropy loss:',torch.nn.CrossEntropyLoss()(logits,labels))"
   ]
  },
  {
   "cell_type": "markdown",
   "metadata": {},
   "source": [
    "### Optimizer"
   ]
  },
  {
   "cell_type": "code",
   "execution_count": null,
   "metadata": {},
   "outputs": [],
   "source": [
    "model = nn.Sequential(\n",
    "    nn.Linear(4, 3),\n",
    "    nn.ReLU(),\n",
    "    nn.Linear(3, 2)\n",
    ")\n",
    "# 建構 Adam 最佳化器物件\n",
    "optimizer = torch.optim.Adam(model.parameters(),lr = 0.01)"
   ]
  },
  {
   "cell_type": "code",
   "execution_count": 35,
   "metadata": {},
   "outputs": [
    {
     "name": "stdout",
     "output_type": "stream",
     "text": [
      "dict_keys(['params', 'lr', 'betas', 'eps', 'weight_decay', 'amsgrad', 'maximize', 'foreach', 'capturable', 'differentiable', 'fused', 'decoupled_weight_decay'])\n"
     ]
    }
   ],
   "source": [
    "# param_groups 屬性可以查看最佳化器中的參數\n",
    "print(optimizer.param_groups[0].keys())"
   ]
  }
 ],
 "metadata": {
  "kernelspec": {
   "display_name": "env",
   "language": "python",
   "name": "python3"
  },
  "language_info": {
   "codemirror_mode": {
    "name": "ipython",
    "version": 3
   },
   "file_extension": ".py",
   "mimetype": "text/x-python",
   "name": "python",
   "nbconvert_exporter": "python",
   "pygments_lexer": "ipython3",
   "version": "3.12.7"
  }
 },
 "nbformat": 4,
 "nbformat_minor": 2
}
